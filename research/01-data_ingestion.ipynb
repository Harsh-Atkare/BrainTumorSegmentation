{
 "cells": [
  {
   "cell_type": "code",
   "execution_count": 1,
   "id": "73681913",
   "metadata": {},
   "outputs": [
    {
     "data": {
      "text/plain": [
       "'/workspaces/BrainTumorSegmentation/research'"
      ]
     },
     "execution_count": 1,
     "metadata": {},
     "output_type": "execute_result"
    }
   ],
   "source": [
    "import os\n",
    "%pwd"
   ]
  },
  {
   "cell_type": "code",
   "execution_count": 2,
   "id": "b17277a4",
   "metadata": {},
   "outputs": [],
   "source": [
    "os.chdir(\"../\")"
   ]
  },
  {
   "cell_type": "code",
   "execution_count": null,
   "id": "74db9ced",
   "metadata": {},
   "outputs": [
    {
     "data": {
      "text/plain": [
       "'/workspaces/BrainTumorSegmentation'"
      ]
     },
     "execution_count": 3,
     "metadata": {},
     "output_type": "execute_result"
    }
   ],
   "source": [
    "\n",
    "%pwd"
   ]
  },
  {
   "cell_type": "code",
   "execution_count": null,
   "id": "56eaba16",
   "metadata": {},
   "outputs": [],
   "source": [
    "# entity > confit_entity.py\n",
    "# entity is return type of any function... here is return type of data ingestion function\n",
    "\n",
    "from dataclasses import dataclass\n",
    "from pathlib import Path\n",
    "@dataclass(frozen=True)\n",
    "class DataIngestionConfig:\n",
    "    root_dir: Path\n",
    "    source_URL: str\n",
    "    local_data_file: Path\n",
    "    unzip_dir: Path"
   ]
  },
  {
   "cell_type": "code",
   "execution_count": 5,
   "id": "3a1478fd",
   "metadata": {},
   "outputs": [],
   "source": [
    "# importing yaml file  path located on constant inti file\n",
    "from BrainTumorReport.constants import *\n",
    "# importing read_yaml and create_directories from utils common code\n",
    "from src.BrainTumorReport.utils.common import read_yaml, create_directories\n",
    "\n",
    "class ConfigurationManager:\n",
    "    def __init__(\n",
    "        self,\n",
    "        config_filepath = CONFIG_FILE_PATH,\n",
    "        params_filepath = PARAMS_FILE_PATH):\n",
    "\n",
    "        self.config = read_yaml(config_filepath)\n",
    "        self.params = read_yaml(params_filepath)\n",
    "\n",
    "        create_directories([self.config.artifacts_root])\n",
    "\n",
    "    def get_data_ingestion_config(self) -> DataIngestionConfig:\n",
    "        config = self.config.data_ingestion\n",
    "\n",
    "        create_directories([config.root_dir])\n",
    "\n",
    "        data_ingestion_config = DataIngestionConfig(\n",
    "            root_dir=config.root_dir,\n",
    "            source_URL=config.source_URL,\n",
    "            local_data_file=config.local_data_file,\n",
    "            unzip_dir=config.unzip_dir \n",
    "        )\n",
    "\n",
    "        return data_ingestion_config"
   ]
  },
  {
   "cell_type": "code",
   "execution_count": 6,
   "id": "5d48a83c",
   "metadata": {},
   "outputs": [],
   "source": [
    "# components\n",
    "import os\n",
    "import urllib.request as request\n",
    "import zipfile\n",
    "import gdown\n",
    "from src.BrainTumorReport import logger\n",
    "from src.BrainTumorReport.utils.common import get_size"
   ]
  },
  {
   "cell_type": "code",
   "execution_count": 7,
   "id": "0b604ba8",
   "metadata": {},
   "outputs": [],
   "source": [
    "# main logic code\n",
    "class DataIngestion:\n",
    "    def __init__(self, config: DataIngestionConfig):\n",
    "        self.config = config\n",
    "\n",
    "    def download_file(self)->str:\n",
    "\n",
    "        try:\n",
    "            dataset_url = self.config.source_URL\n",
    "            zip_doownload_dir=self.config.local_data_file\n",
    "            os.makedirs(\"artifacts/data_ingestion\",exist_ok=True)\n",
    "            logger.info(f\"Downloading file from {dataset_url} into file  {zip_doownload_dir}\")\n",
    "\n",
    "\n",
    "            file_id=dataset_url.split('/')[-2]\n",
    "            prefix = 'https://drive.google.com/uc?/export=download&id='\n",
    "            gdown.download(prefix+file_id,zip_doownload_dir)\n",
    "            logger.info(f\"File Downloaded at {zip_doownload_dir}\")\n",
    "\n",
    "        except Exception as e:\n",
    "            raise e\n",
    "    \n",
    "    def extract_zip_file(self):\n",
    "        unzip_dir=self.config.unzip_dir\n",
    "        os.makedirs(unzip_dir,exist_ok=True)\n",
    "        with zipfile.ZipFile(self.config.local_data_file,'r') as zip_ref:\n",
    "            zip_ref.extractall(unzip_dir)\n",
    "        logger.info(f\"Unzipped file at {unzip_dir}\")\n",
    "\n",
    "    def delete_zip_file(self):\n",
    "        os.remove(self.config.local_data_file)\n",
    "        logger.info(f\"Deleted zip file at {self.config.local_data_file}\")\n",
    "    "
   ]
  },
  {
   "cell_type": "code",
   "execution_count": 8,
   "id": "f91ff919",
   "metadata": {},
   "outputs": [
    {
     "name": "stdout",
     "output_type": "stream",
     "text": [
      "[2025-07-19 18:40:00,910: INFO: common: yaml file: config/config.yaml loaded successfully]\n",
      "[2025-07-19 18:40:00,912: INFO: common: yaml file: params.yaml loaded successfully]\n",
      "[2025-07-19 18:40:00,913: INFO: common: created directory at: artifacts]\n",
      "[2025-07-19 18:40:00,914: INFO: common: created directory at: artifacts/data_ingestion]\n",
      "[2025-07-19 18:40:00,915: INFO: 2192072649: Downloading file from https://drive.google.com/file/d/15u8adG6K8tpWAX6ilvyTXKyjqhZcUiPe/view?usp=sharing into file  artifacts/data_ingestion/BTS.zip]\n"
     ]
    },
    {
     "name": "stderr",
     "output_type": "stream",
     "text": [
      "Downloading...\n",
      "From (original): https://drive.google.com/uc?/export=download&id=15u8adG6K8tpWAX6ilvyTXKyjqhZcUiPe\n",
      "From (redirected): https://drive.google.com/uc?%2Fexport=download&id=15u8adG6K8tpWAX6ilvyTXKyjqhZcUiPe&confirm=t&uuid=b6fc4603-b762-4032-a5ff-1f48178b3758\n",
      "To: /workspaces/BrainTumorSegmentation/artifacts/data_ingestion/BTS.zip\n",
      "100%|██████████| 47.9M/47.9M [00:01<00:00, 39.6MB/s]"
     ]
    },
    {
     "name": "stdout",
     "output_type": "stream",
     "text": [
      "[2025-07-19 18:40:04,668: INFO: 2192072649: File Downloaded at artifacts/data_ingestion/BTS.zip]\n"
     ]
    },
    {
     "name": "stderr",
     "output_type": "stream",
     "text": [
      "\n"
     ]
    },
    {
     "name": "stdout",
     "output_type": "stream",
     "text": [
      "[2025-07-19 18:40:04,896: INFO: 2192072649: Unzipped file at artifacts/data_ingestion]\n",
      "[2025-07-19 18:40:04,908: INFO: 2192072649: Deleted zip file at artifacts/data_ingestion/BTS.zip]\n"
     ]
    }
   ],
   "source": [
    "# pipeline\n",
    "\n",
    "try:\n",
    "    config=ConfigurationManager()\n",
    "    DataIngestionConfig=config.get_data_ingestion_config()\n",
    "    dataIngestion=DataIngestion(config=DataIngestionConfig)\n",
    "    dataIngestion.download_file()\n",
    "    dataIngestion.extract_zip_file()\n",
    "    dataIngestion.delete_zip_file()\n",
    "except Exception as e:\n",
    "    raise e\n"
   ]
  }
 ],
 "metadata": {
  "kernelspec": {
   "display_name": "BTR_venv",
   "language": "python",
   "name": "python3"
  },
  "language_info": {
   "codemirror_mode": {
    "name": "ipython",
    "version": 3
   },
   "file_extension": ".py",
   "mimetype": "text/x-python",
   "name": "python",
   "nbconvert_exporter": "python",
   "pygments_lexer": "ipython3",
   "version": "3.10.16"
  }
 },
 "nbformat": 4,
 "nbformat_minor": 5
}
