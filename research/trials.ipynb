{
 "cells": [
  {
   "cell_type": "code",
   "execution_count": 5,
   "id": "ba58bb6e",
   "metadata": {},
   "outputs": [],
   "source": [
    "import os\n",
    "import gdown"
   ]
  },
  {
   "cell_type": "code",
   "execution_count": 6,
   "id": "fb5b0a6c",
   "metadata": {},
   "outputs": [
    {
     "data": {
      "text/plain": [
       "'15u8adG6K8tpWAX6ilvyTXKyjqhZcUiPe'"
      ]
     },
     "execution_count": 6,
     "metadata": {},
     "output_type": "execute_result"
    }
   ],
   "source": [
    "url =\"https://drive.google.com/file/d/15u8adG6K8tpWAX6ilvyTXKyjqhZcUiPe/view?usp=sharing\"\n",
    "file_id=url.split(\"/\")[5]\n",
    "file_id"
   ]
  },
  {
   "cell_type": "code",
   "execution_count": 7,
   "id": "10683185",
   "metadata": {},
   "outputs": [
    {
     "name": "stderr",
     "output_type": "stream",
     "text": [
      "Downloading...\n",
      "From (original): https://drive.google.com/uc?/export=download&id=15u8adG6K8tpWAX6ilvyTXKyjqhZcUiPe\n",
      "From (redirected): https://drive.google.com/uc?%2Fexport=download&id=15u8adG6K8tpWAX6ilvyTXKyjqhZcUiPe&confirm=t&uuid=a29db355-2887-4dd2-ab68-5a35688028fa\n",
      "To: /workspaces/BrainTumorSegmentation/research/BTS.zip\n",
      "100%|██████████| 47.9M/47.9M [00:01<00:00, 35.7MB/s]\n"
     ]
    },
    {
     "data": {
      "text/plain": [
       "'BTS.zip'"
      ]
     },
     "execution_count": 7,
     "metadata": {},
     "output_type": "execute_result"
    }
   ],
   "source": [
    "prifix=\"https://drive.google.com/uc?/export=download&id=\"\n",
    "gdown.download(prifix+file_id,\"BTS.zip\")"
   ]
  },
  {
   "cell_type": "code",
   "execution_count": 8,
   "id": "9eb35d33",
   "metadata": {},
   "outputs": [
    {
     "data": {
      "text/plain": [
       "'/workspaces/BrainTumorSegmentation/research'"
      ]
     },
     "execution_count": 8,
     "metadata": {},
     "output_type": "execute_result"
    }
   ],
   "source": [
    "%pwd"
   ]
  }
 ],
 "metadata": {
  "kernelspec": {
   "display_name": "BTR_venv",
   "language": "python",
   "name": "python3"
  },
  "language_info": {
   "codemirror_mode": {
    "name": "ipython",
    "version": 3
   },
   "file_extension": ".py",
   "mimetype": "text/x-python",
   "name": "python",
   "nbconvert_exporter": "python",
   "pygments_lexer": "ipython3",
   "version": "3.10.16"
  }
 },
 "nbformat": 4,
 "nbformat_minor": 5
}
